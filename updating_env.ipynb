{
 "cells": [
  {
   "cell_type": "markdown",
   "metadata": {},
   "source": [
    "# Updating Learn-Env"
   ]
  },
  {
   "cell_type": "markdown",
   "metadata": {},
   "source": [
    "- Updated 09/01/20"
   ]
  },
  {
   "cell_type": "markdown",
   "metadata": {
    "toc": true
   },
   "source": [
    "<h1>Table of Contents<span class=\"tocSkip\"></span></h1>\n",
    "<div class=\"toc\"><ul class=\"toc-item\"><li><span><a href=\"#Updating-Learn-Env\" data-toc-modified-id=\"Updating-Learn-Env-1\">Updating Learn-Env</a></span></li><li><span><a href=\"#INTRODUCTION\" data-toc-modified-id=\"INTRODUCTION-2\">INTRODUCTION</a></span></li><li><span><a href=\"#Part-1:-Backing-Up-your-learn-env\" data-toc-modified-id=\"Part-1:-Backing-Up-your-learn-env-3\">Part 1: Backing Up your <code>learn-env</code></a></span><ul class=\"toc-item\"><li><span><a href=\"#Make-sure-you-are-in-your-learn-env\" data-toc-modified-id=\"Make-sure-you-are-in-your-learn-env-3.1\">Make sure you are in your learn-env</a></span></li><li><span><a href=\"#Once-you-are-using-learn-env,-backup-your-environment:\" data-toc-modified-id=\"Once-you-are-using-learn-env,-backup-your-environment:-3.2\">Once you are using <code>learn-env</code>, backup your environment:</a></span><ul class=\"toc-item\"><li><span><a href=\"#It-is-recommended-to-do-a-commit-after-exporting-your-env\" data-toc-modified-id=\"It-is-recommended-to-do-a-commit-after-exporting-your-env-3.2.1\">It is recommended to do a commit after exporting your env</a></span></li></ul></li><li><span><a href=\"#Create-a-new-backup-environment-(learn-env-backup)-from-your-exported-file-above-(optional,-but-recommended)\" data-toc-modified-id=\"Create-a-new-backup-environment-(learn-env-backup)-from-your-exported-file-above-(optional,-but-recommended)-3.3\">Create a new backup environment (<code>learn-env-backup</code>) from your exported file above <em>(optional, but recommended)</em></a></span></li></ul></li><li><span><a href=\"#Part-2:-Checking-and-Updating-Packages\" data-toc-modified-id=\"Part-2:-Checking-and-Updating-Packages-4\">Part 2: Checking and Updating Packages</a></span><ul class=\"toc-item\"><li><span><a href=\"#Display-a-list-of-all-packages-and-if-they-were-installed-by-conda-or-pip\" data-toc-modified-id=\"Display-a-list-of-all-packages-and-if-they-were-installed-by-conda-or-pip-4.1\">Display a list of all packages and if they were installed by conda or pip</a></span></li><li><span><a href=\"#Desired-Package-Versions-to-Install\" data-toc-modified-id=\"Desired-Package-Versions-to-Install-4.2\">Desired Package Versions to Install</a></span><ul class=\"toc-item\"><li><span><a href=\"#Package-Versions-to-Install\" data-toc-modified-id=\"Package-Versions-to-Install-4.2.1\">Package Versions to Install</a></span></li></ul></li><li><span><a href=\"#Updating-Packages\" data-toc-modified-id=\"Updating-Packages-4.3\">Updating Packages</a></span><ul class=\"toc-item\"><li><span><a href=\"#Numpy\" data-toc-modified-id=\"Numpy-4.3.1\">Numpy</a></span></li><li><span><a href=\"#Pandas\" data-toc-modified-id=\"Pandas-4.3.2\">Pandas</a></span></li><li><span><a href=\"#Matplotlib\" data-toc-modified-id=\"Matplotlib-4.3.3\">Matplotlib</a></span></li><li><span><a href=\"#scikit-learn\" data-toc-modified-id=\"scikit-learn-4.3.4\">scikit-learn</a></span></li><li><span><a href=\"#Seaborn\" data-toc-modified-id=\"Seaborn-4.3.5\">Seaborn</a></span></li></ul></li></ul></li><li><span><a href=\"#Bonus:-Jupyer-Notebook-Extensions\" data-toc-modified-id=\"Bonus:-Jupyer-Notebook-Extensions-5\">Bonus: Jupyer Notebook Extensions</a></span></li><li><span><a href=\"#Appendix\" data-toc-modified-id=\"Appendix-6\">Appendix</a></span><ul class=\"toc-item\"><li><span><a href=\"#Outdated-Numpy-Code\" data-toc-modified-id=\"Outdated-Numpy-Code-6.1\">Outdated Numpy Code</a></span></li></ul></li></ul></div>"
   ]
  },
  {
   "cell_type": "markdown",
   "metadata": {},
   "source": [
    "# INTRODUCTION"
   ]
  },
  {
   "cell_type": "markdown",
   "metadata": {},
   "source": [
    "> - **The first part of this notebook is going to backup your current learn-env** as a .yml file (the same way you created it in the beginning of the bootcamp). \n",
    "    - It will optionally also save and push a commit with the updated file. \n",
    "> - **The second part of the notebook will check which versions of packages** you have installed and will guide you through updating them.\n",
    "\n",
    ">***NOTE: YOU WILL NEED TO ANSWER y/n TO SEVERAL QUESTIONS DURING THE FIRST HALF OF THE NOTEBOOK***\n"
   ]
  },
  {
   "cell_type": "markdown",
   "metadata": {},
   "source": [
    "# Part 1: Backing Up your `learn-env`"
   ]
  },
  {
   "cell_type": "markdown",
   "metadata": {},
   "source": [
    "## Make sure you are in your learn-env"
   ]
  },
  {
   "cell_type": "markdown",
   "metadata": {},
   "source": [
    "- Run the following cell and check which env has an asterisk to the right of its name ( should be `learn-env`)\n",
    "    - If you SEE learn-env but it does not have an asterisk:\n",
    "        - Go to `Toolbar > Kernel > Change Kernel >` then select \"learn-env\" if you have it or `Python[conda env:learn-env]`.\n",
    "        - Re-run the cell below"
   ]
  },
  {
   "cell_type": "code",
   "execution_count": 1,
   "metadata": {
    "ExecuteTime": {
     "end_time": "2020-09-17T13:49:24.678622Z",
     "start_time": "2020-09-17T13:49:22.353504Z"
    },
    "tags": []
   },
   "outputs": [
    {
     "name": "stdout",
     "output_type": "stream",
     "text": [
      "# conda environments:\n",
      "#\n",
      "base                     C:\\Users\\Nero_\\anaconda3\n",
      "learn-env             *  C:\\Users\\Nero_\\anaconda3\\envs\\learn-env\n",
      "\n",
      "\n",
      "Note: you may need to restart the kernel to use updated packages.\n"
     ]
    }
   ],
   "source": [
    "## Should see a list of environments on your computer (likely only has base and learn-env)\n",
    "%conda env list"
   ]
  },
  {
   "cell_type": "markdown",
   "metadata": {},
   "source": [
    "- **If you do not see either `learn-env` or `Python[conda env:learn-env]`** you may not have activate learn-env before starting jupyter notebook. \n",
    "    - Close and Halt the notebook\n",
    "    - Quit / Terminate the terminal\n",
    "    - Then activate learn-env and launch jupyter notebook again\n",
    "    ```bash\n",
    "    conda activate learn-env\n",
    "    jupyter notebook\n",
    "    ```"
   ]
  },
  {
   "cell_type": "markdown",
   "metadata": {},
   "source": [
    "## Once you are using `learn-env`, backup your environment:"
   ]
  },
  {
   "cell_type": "markdown",
   "metadata": {},
   "source": [
    "- Blog Post:\n",
    "    - https://medium.com/@shandou/export-and-create-conda-environment-with-yml-5de619fe5a2"
   ]
  },
  {
   "cell_type": "code",
   "execution_count": 2,
   "metadata": {
    "ExecuteTime": {
     "end_time": "2020-09-17T13:49:33.724856Z",
     "start_time": "2020-09-17T13:49:33.718851Z"
    }
   },
   "outputs": [],
   "source": [
    "import functions as fn\n",
    "import os\n",
    "# help(fn)"
   ]
  },
  {
   "cell_type": "code",
   "execution_count": 4,
   "metadata": {
    "ExecuteTime": {
     "end_time": "2020-09-17T13:50:54.352251Z",
     "start_time": "2020-09-17T13:50:50.976177Z"
    }
   },
   "outputs": [
    {
     "data": {
      "text/plain": [
       "'learn-env-updated_09-17-2020.yml'"
      ]
     },
     "execution_count": 4,
     "metadata": {},
     "output_type": "execute_result"
    }
   ],
   "source": [
    "## Set name for the environment .yml\n",
    "env_name = fn.auto_filename_time('learn-env-updated',\n",
    "                                 timeformat='%m-%d-%Y',ext='.yml')\n",
    "env_name"
   ]
  },
  {
   "cell_type": "code",
   "execution_count": 5,
   "metadata": {
    "ExecuteTime": {
     "end_time": "2020-09-17T13:50:55.913671Z",
     "start_time": "2020-09-17T13:50:55.911670Z"
    }
   },
   "outputs": [],
   "source": [
    "# os.listdir()"
   ]
  },
  {
   "cell_type": "code",
   "execution_count": null,
   "metadata": {
    "ExecuteTime": {
     "start_time": "2020-09-17T13:50:57.486Z"
    },
    "tags": []
   },
   "outputs": [
    {
     "name": "stdout",
     "output_type": "stream",
     "text": [
      "Saving environment file as learn-env-updated_09-17-2020.yml\n"
     ]
    }
   ],
   "source": [
    "## Check for pre-existing .yml file\n",
    "yml_files = list(filter(lambda file: file.endswith('.yml'),os.listdir()))\n",
    "\n",
    "\n",
    "## Ask the user what to do if the environment file already exists. \n",
    "if env_name in yml_files:\n",
    "    \n",
    "    ans = input(f'The file {env_name} already exists. Overwrite?(y/n):')\n",
    "    \n",
    "    if ans.lower()=='n':\n",
    "        env_name = env_name.replace('.yml','v2.yml')\n",
    "        print(f\"Filename changed to {env_name}\")\n",
    "        \n",
    "    else:\n",
    "        print('Overwriting file...')\n",
    "else:\n",
    "    print(f'Saving environment file as {env_name}')\n",
    "## Export the environment to the .yml file\n",
    "%conda env export > \"{env_name}\""
   ]
  },
  {
   "cell_type": "markdown",
   "metadata": {},
   "source": [
    "### It is recommended to do a commit after exporting your env"
   ]
  },
  {
   "cell_type": "code",
   "execution_count": null,
   "metadata": {
    "ExecuteTime": {
     "end_time": "2020-09-01T22:43:54.627539Z",
     "start_time": "2020-09-01T22:43:52.976098Z"
    }
   },
   "outputs": [],
   "source": [
    "## ask user to commit\n",
    "ans = input('Commit repository changes? (y/n)')\n",
    "print()\n",
    "\n",
    "## if yes:\n",
    "if ans.lower()=='y':\n",
    "\n",
    "    ## Run git commands using !\n",
    "    !git add .\n",
    "    !git commit -am\"Env Backup created.\"\n",
    "    \n",
    "    print('\\n\\nChanges committed.')\n",
    "    \n",
    "    ## ask user to push changes\n",
    "    print()\n",
    "    ans2 = input('Push commit to GitHub? (y/n)')\n",
    "    \n",
    "    ## If yes, push to gits\n",
    "    if ans2.lower()=='y':\n",
    "        !git push\n",
    "else:\n",
    "    print('Skipping commiting changes...')\n"
   ]
  },
  {
   "cell_type": "markdown",
   "metadata": {},
   "source": [
    "## Create a new backup environment (`learn-env-backup`) from your exported file above *(optional, but recommended)*"
   ]
  },
  {
   "cell_type": "code",
   "execution_count": null,
   "metadata": {
    "ExecuteTime": {
     "end_time": "2020-09-01T22:44:04.068481Z",
     "start_time": "2020-09-01T22:43:54.629509Z"
    }
   },
   "outputs": [],
   "source": [
    "ans = input(\"Clone a backup of your learn-env?(y/n)\")\n",
    "\n",
    "if ans.lower()=='y':\n",
    "    print('Cloning exported environment as learn-env-backup')\n",
    "    %conda env create -n \"learn-env-backup\" -f \"{env_name}\" #ironment.yml\n",
    "else:\n",
    "    print('Skipping creation of learn-env-backup')"
   ]
  },
  {
   "cell_type": "markdown",
   "metadata": {},
   "source": [
    "#### If you said `y`:\n",
    "- Make sure that `learn-env-backup` now appears in the env list"
   ]
  },
  {
   "cell_type": "code",
   "execution_count": null,
   "metadata": {
    "ExecuteTime": {
     "end_time": "2020-09-01T22:44:05.592843Z",
     "start_time": "2020-09-01T22:44:04.071793Z"
    }
   },
   "outputs": [],
   "source": [
    "%conda env list"
   ]
  },
  {
   "cell_type": "markdown",
   "metadata": {
    "heading_collapsed": true
   },
   "source": [
    "# Part 2: Checking and Updating Packages"
   ]
  },
  {
   "cell_type": "markdown",
   "metadata": {
    "hidden": true
   },
   "source": [
    "## Display a list of all packages and if they were installed by conda or pip"
   ]
  },
  {
   "cell_type": "code",
   "execution_count": null,
   "metadata": {
    "ExecuteTime": {
     "end_time": "2020-09-01T22:44:08.477557Z",
     "start_time": "2020-09-01T22:44:05.595874Z"
    },
    "hidden": true,
    "scrolled": false,
    "tags": [
     "outputPrepend"
    ]
   },
   "outputs": [],
   "source": [
    "%conda list"
   ]
  },
  {
   "cell_type": "code",
   "execution_count": null,
   "metadata": {
    "ExecuteTime": {
     "end_time": "2020-09-01T22:44:08.481763Z",
     "start_time": "2020-09-01T22:44:08.479638Z"
    },
    "hidden": true
   },
   "outputs": [],
   "source": [
    "# %conda info"
   ]
  },
  {
   "cell_type": "markdown",
   "metadata": {
    "hidden": true
   },
   "source": [
    "## Desired Package Versions to Install"
   ]
  },
  {
   "cell_type": "code",
   "execution_count": null,
   "metadata": {
    "ExecuteTime": {
     "end_time": "2020-09-01T22:44:12.494861Z",
     "start_time": "2020-09-01T22:44:11.145726Z"
    },
    "hidden": true
   },
   "outputs": [],
   "source": [
    "import pandas as pd\n",
    "import numpy as np\n",
    "import matplotlib as mpl\n",
    "import seaborn as sns\n",
    "import sklearn\n",
    "import inspect\n",
    "\n",
    "packages = [pd,np,mpl,sns,sklearn]\n",
    "for pkg in packages:\n",
    "    print(pkg.__name__+' = v'+str(pkg.__version__))\n",
    "    print('\\t'+inspect.getabsfile(pd))\n",
    "    print()"
   ]
  },
  {
   "cell_type": "markdown",
   "metadata": {
    "hidden": true
   },
   "source": [
    "### Package Versions to Install\n",
    "| Package | Version | \n",
    "| --- | --- |\n",
    "|pandas | >= 1.0.1 |\n",
    "|matplotlib | >= 3.3.1|\n",
    "| numpy | >= 1.16.5|\n",
    "|sklearn | >= v0.23 |\n",
    "| seaborn |  v0.10.1|\n",
    "\n"
   ]
  },
  {
   "cell_type": "markdown",
   "metadata": {
    "hidden": true
   },
   "source": [
    "## Updating Packages"
   ]
  },
  {
   "cell_type": "markdown",
   "metadata": {
    "hidden": true
   },
   "source": [
    "> Un-comment the update code for whatever packages that are not higher than the recommended versions above."
   ]
  },
  {
   "cell_type": "markdown",
   "metadata": {
    "hidden": true
   },
   "source": [
    "### Numpy"
   ]
  },
  {
   "cell_type": "code",
   "execution_count": null,
   "metadata": {
    "ExecuteTime": {
     "end_time": "2020-09-01T22:45:52.551909Z",
     "start_time": "2020-09-01T22:45:52.549961Z"
    },
    "hidden": true
   },
   "outputs": [],
   "source": [
    "# ## CHECK NUMPY CHANNEL\n",
    "# %conda list numpy"
   ]
  },
  {
   "cell_type": "code",
   "execution_count": null,
   "metadata": {
    "ExecuteTime": {
     "end_time": "2020-09-01T22:46:02.242542Z",
     "start_time": "2020-09-01T22:46:02.240445Z"
    },
    "hidden": true
   },
   "outputs": [],
   "source": [
    "# !pip install --user --upgrade numpy"
   ]
  },
  {
   "cell_type": "code",
   "execution_count": null,
   "metadata": {
    "ExecuteTime": {
     "end_time": "2020-09-01T22:46:11.758927Z",
     "start_time": "2020-09-01T22:46:11.757086Z"
    },
    "hidden": true
   },
   "outputs": [],
   "source": [
    "# import numpy\n",
    "# numpy.__version__"
   ]
  },
  {
   "cell_type": "markdown",
   "metadata": {
    "hidden": true
   },
   "source": [
    "### Pandas"
   ]
  },
  {
   "cell_type": "code",
   "execution_count": null,
   "metadata": {
    "ExecuteTime": {
     "end_time": "2020-09-01T22:46:15.379938Z",
     "start_time": "2020-09-01T22:46:15.378049Z"
    },
    "hidden": true
   },
   "outputs": [],
   "source": [
    "# PANDAS\n",
    "# %conda list pandas"
   ]
  },
  {
   "cell_type": "code",
   "execution_count": null,
   "metadata": {
    "ExecuteTime": {
     "end_time": "2020-09-01T22:46:18.254029Z",
     "start_time": "2020-09-01T22:46:18.251948Z"
    },
    "hidden": true
   },
   "outputs": [],
   "source": [
    "# ## Update Pandas\n",
    "# %conda update pandas\n",
    "\n",
    "# # Confirm worked\n",
    "# import pandas\n",
    "# pandas.__version__"
   ]
  },
  {
   "cell_type": "markdown",
   "metadata": {
    "hidden": true
   },
   "source": [
    "### Matplotlib"
   ]
  },
  {
   "cell_type": "code",
   "execution_count": null,
   "metadata": {
    "ExecuteTime": {
     "end_time": "2020-09-01T22:44:38.660699Z",
     "start_time": "2020-09-01T22:44:38.658727Z"
    },
    "hidden": true
   },
   "outputs": [],
   "source": [
    "## MATPLOTLIB\n",
    "# !pip install -U matplotlib\n",
    "\n",
    "# import matplotlib\n",
    "# matplotlib.__version__"
   ]
  },
  {
   "cell_type": "markdown",
   "metadata": {
    "hidden": true
   },
   "source": [
    "### scikit-learn"
   ]
  },
  {
   "cell_type": "markdown",
   "metadata": {
    "hidden": true
   },
   "source": [
    "> Note: even though we import `sklearn`, the actual package that we update is listen by its full name `scikit-learn`"
   ]
  },
  {
   "cell_type": "code",
   "execution_count": null,
   "metadata": {
    "ExecuteTime": {
     "end_time": "2020-09-01T22:44:38.664413Z",
     "start_time": "2020-09-01T22:44:38.662498Z"
    },
    "hidden": true
   },
   "outputs": [],
   "source": [
    "## SCIKIT-LEARN\n",
    "# %conda update scikit-learn\n",
    "\n",
    "# import sklearn as scikit \n",
    "# scikit.__version__"
   ]
  },
  {
   "cell_type": "markdown",
   "metadata": {
    "hidden": true
   },
   "source": [
    "### Seaborn"
   ]
  },
  {
   "cell_type": "code",
   "execution_count": null,
   "metadata": {
    "ExecuteTime": {
     "end_time": "2020-09-01T22:44:38.672488Z",
     "start_time": "2020-09-01T22:44:38.670569Z"
    },
    "hidden": true
   },
   "outputs": [],
   "source": [
    "## Seaborn\n",
    "# !pip install -U seaborn\n",
    "\n",
    "# import seaborn\n",
    "# seaborn.__version__"
   ]
  },
  {
   "cell_type": "markdown",
   "metadata": {
    "heading_collapsed": true
   },
   "source": [
    "# Bonus: Jupyer Notebook Extensions"
   ]
  },
  {
   "cell_type": "markdown",
   "metadata": {
    "hidden": true
   },
   "source": [
    "> - For more detailed instructions + a list of recommended extension settings, see this notebook:\n",
    "    - https://github.com/jirvingphd/fsds_070620_FT_cohort_notes/blob/master/Mod_1/sect_01/sect_01_getting_started.ipynb"
   ]
  },
  {
   "cell_type": "code",
   "execution_count": null,
   "metadata": {
    "ExecuteTime": {
     "end_time": "2020-09-01T22:44:41.261533Z",
     "start_time": "2020-09-01T22:44:38.674599Z"
    },
    "hidden": true
   },
   "outputs": [],
   "source": [
    "%conda list jupyter_contrib_nbextensions"
   ]
  },
  {
   "cell_type": "code",
   "execution_count": null,
   "metadata": {
    "ExecuteTime": {
     "end_time": "2020-09-01T22:44:41.266385Z",
     "start_time": "2020-09-01T22:44:41.264054Z"
    },
    "hidden": true
   },
   "outputs": [],
   "source": [
    "# ## UNCOMMENT THE 3 LINES BELOW TO INSTALL AND ACTIVATE EXTENSIONS\n",
    "# %conda install -c conda-forge jupyter_contrib_nbextensions\n",
    "# %conda install jupyter_nbextensions_configurator\n",
    "# !jupyter nbextension enable jupyter_nbextensions_configurator"
   ]
  },
  {
   "cell_type": "code",
   "execution_count": null,
   "metadata": {
    "ExecuteTime": {
     "end_time": "2020-09-01T22:44:41.270619Z",
     "start_time": "2020-09-01T22:44:41.268851Z"
    },
    "hidden": true,
    "scrolled": false
   },
   "outputs": [],
   "source": [
    "# %conda update jupyter_contrib_nbextensions\n",
    "# %conda update jupyter_nbextensions_configurator"
   ]
  },
  {
   "cell_type": "code",
   "execution_count": null,
   "metadata": {
    "ExecuteTime": {
     "end_time": "2020-09-01T22:44:41.274734Z",
     "start_time": "2020-09-01T22:44:41.272381Z"
    },
    "hidden": true
   },
   "outputs": [],
   "source": [
    "# ## Activate recommended extensions\n",
    "# !jupyter nbextension enable execute_time/ExecuteTime\n",
    "# !jupyter nbextension enable toc2/main\n",
    "# !jupyter nbextension enable livemdpreview/livemdpreview\n",
    "# !jupyter nbextension enable collapsible_headings/main\n",
    "# !jupyter nbextension enable spellchecker/main\n",
    "# !jupyter nbextension enable codefolding/main\n",
    "# !jupyter nbextension enable ruler/main"
   ]
  },
  {
   "cell_type": "markdown",
   "metadata": {
    "heading_collapsed": true
   },
   "source": [
    "# Appendix"
   ]
  },
  {
   "cell_type": "markdown",
   "metadata": {
    "hidden": true
   },
   "source": [
    "## Outdated Numpy Code"
   ]
  },
  {
   "cell_type": "markdown",
   "metadata": {
    "hidden": true
   },
   "source": [
    "> For numpy: Check the output of `%conda list numpy` below. \n",
    "- If the \"Channel\" column next to the `numpy` row says `pypi` then uncomment the `!pip install -U numpy` command.\n",
    "- If it doesn't say pypi use `%conda update numpy`"
   ]
  },
  {
   "cell_type": "markdown",
   "metadata": {
    "hidden": true
   },
   "source": [
    "> If `numpy` shows up twice in the list above(one where channel=blank/conda-forge and another where channel=Pypi) you will want to run the following cell to remove both versions and re-install it"
   ]
  },
  {
   "cell_type": "code",
   "execution_count": null,
   "metadata": {
    "ExecuteTime": {
     "end_time": "2020-09-01T22:44:14.885491Z",
     "start_time": "2020-09-01T22:44:14.883112Z"
    },
    "hidden": true
   },
   "outputs": [],
   "source": [
    "## IF NUMPY SHOWS UP AS BOTH PYPI AND CONDA>  \n",
    "\n",
    "## Uninstall both versions\n",
    "# !pip uninstall numpy\n",
    "# %conda remove numpy\n",
    "\n",
    "## Install Numpy with conda\n",
    "# %conda install numpy"
   ]
  },
  {
   "cell_type": "markdown",
   "metadata": {
    "hidden": true
   },
   "source": [
    "> If `numpy` shows up only once, then use the Channel to decide which update command to use"
   ]
  },
  {
   "cell_type": "code",
   "execution_count": null,
   "metadata": {
    "ExecuteTime": {
     "end_time": "2020-09-01T22:44:14.889246Z",
     "start_time": "2020-09-01T22:44:14.887310Z"
    },
    "hidden": true
   },
   "outputs": [],
   "source": [
    "## NUMPY -  CHOOSE ONE COMMAND: CONDA OR PIP NOT BOTH\n",
    "\n",
    "#%conda update numpy\n",
    "## OR\n",
    "# !pip install -U numpy"
   ]
  },
  {
   "cell_type": "code",
   "execution_count": null,
   "metadata": {
    "hidden": true
   },
   "outputs": [],
   "source": []
  }
 ],
 "metadata": {
  "kernelspec": {
   "display_name": "learn-env",
   "language": "python",
   "name": "learn-env"
  },
  "language_info": {
   "codemirror_mode": {
    "name": "ipython",
    "version": 3
   },
   "file_extension": ".py",
   "mimetype": "text/x-python",
   "name": "python",
   "nbconvert_exporter": "python",
   "pygments_lexer": "ipython3",
   "version": "3.6.9"
  },
  "toc": {
   "base_numbering": 1,
   "nav_menu": {},
   "number_sections": false,
   "sideBar": true,
   "skip_h1_title": false,
   "title_cell": "Table of Contents",
   "title_sidebar": "Contents",
   "toc_cell": true,
   "toc_position": {
    "height": "calc(100% - 180px)",
    "left": "10px",
    "top": "150px",
    "width": "320px"
   },
   "toc_section_display": true,
   "toc_window_display": true
  }
 },
 "nbformat": 4,
 "nbformat_minor": 2
}
